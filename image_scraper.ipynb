{
 "cells": [
  {
   "cell_type": "code",
   "execution_count": 2,
   "id": "69c355a8-bfbe-43b9-898d-4cbdd2b7d15d",
   "metadata": {},
   "outputs": [],
   "source": [
    "import requests\n",
    "import logging\n",
    "import os \n",
    "from bs4 import BeautifulSoup\n",
    "from urllib.request import urlopen"
   ]
  },
  {
   "cell_type": "code",
   "execution_count": 4,
   "id": "78a5c715-a047-484f-8acb-b4188e59d957",
   "metadata": {},
   "outputs": [],
   "source": [
    "save_img_dir = 'images/'\n",
    "if not os.path.exists(save_img_dir):\n",
    "    os.makedirs(save_img_dir)"
   ]
  },
  {
   "cell_type": "code",
   "execution_count": 5,
   "id": "386677d7-9c3a-486a-b61e-357b6cce2231",
   "metadata": {},
   "outputs": [],
   "source": [
    "query = 'narendra modi'\n",
    "#url = https://www.google.com/search?sca_esv=539b7d30e843b5e1&rlz=1C1GCEA_enIN993IN993&sxsrf=ACQVn08iB5YpC1bZXCXKu3koOFycOBp7ow:1712934758025&q=narendra+modi&uds=AMwkrPvHT71HLFq-RiTLA8h-NTpWZJu9PIL4Aggkj3W1L5Fg6TGbGBOoyvheaxhkAao4vqS-TwzgKwgOJrqR3E3oou0ikrsBKEDnKZbnrA6ssCs1gdmAltLE-ycs3WAXrwxFFu-VfhqqcI768wBndHHbLLj1kZLS8ykx-mPJotvycTNdX2uhMkVnDaIZPxpz-N61Tl3cFq49s1QQOOXdAD5aoXs78wRvAoPoAdxRBCJj1DhtX5clF34DdjQUjdxCkljV1R3Xo0Q5gv5FR8cczmSzkeyRceL3pcyWlr-PXCiYQEMPDvLaVcw&udm=2&prmd=nivsmbtz&sa=X&sqi=2&ved=2ahUKEwiv1Zme-7yFAxWIbmwGHcyaCiIQtKgLegQIDBAB&biw=1366&bih=651&dpr=1"
   ]
  },
  {
   "cell_type": "code",
   "execution_count": 6,
   "id": "abfe6b95-8795-49dc-8828-d5608bd72ed8",
   "metadata": {},
   "outputs": [],
   "source": [
    "responce = requests.get(f'https://www.google.com/search?sca_esv=539b7d30e843b5e1&rlz=1C1GCEA_enIN993IN993&sxsrf=ACQVn08iB5YpC1bZXCXKu3koOFycOBp7ow:1712934758025&q=narendra+modi&uds=AMwkrPvHT71HLFq-RiTLA8h-NTpWZJu9PIL4Aggkj3W1L5Fg6TGbGBOoyvheaxhkAao4vqS-TwzgKwgOJrqR3E3oou0ikrsBKEDnKZbnrA6ssCs1gdmAltLE-ycs3WAXrwxFFu-VfhqqcI768wBndHHbLLj1kZLS8ykx-mPJotvycTNdX2uhMkVnDaIZPxpz-N61Tl3cFq49s1QQOOXdAD5aoXs78wRvAoPoAdxRBCJj1DhtX5clF34DdjQUjdxCkljV1R3Xo0Q5gv5FR8cczmSzkeyRceL3pcyWlr-PXCiYQEMPDvLaVcw&udm=2&prmd=nivsmbtz&sa=X&sqi=2&ved=2ahUKEwiv1Zme-7yFAxWIbmwGHcyaCiIQtKgLegQIDBAB&biw=1366&bih=651&dpr=1')"
   ]
  },
  {
   "cell_type": "code",
   "execution_count": 7,
   "id": "740040e5-5731-4f9a-b046-6f567f67b577",
   "metadata": {},
   "outputs": [
    {
     "data": {
      "text/plain": [
       "<Response [200]>"
      ]
     },
     "execution_count": 7,
     "metadata": {},
     "output_type": "execute_result"
    }
   ],
   "source": [
    "responce"
   ]
  },
  {
   "cell_type": "code",
   "execution_count": 10,
   "id": "1683065e-5ec1-4b48-93d1-31dcfb6bba88",
   "metadata": {},
   "outputs": [
    {
     "data": {
      "text/plain": [
       "<!DOCTYPE html PUBLIC \"-//WAPFORUM//DTD XHTML Mobile 1.0//EN\" \"http://www.wapforum.org/DTD/xhtml-mobile10.dtd\">\n",
       "<html lang=\"en-IN\" xmlns=\"http://www.w3.org/1999/xhtml\"><head><meta content=\"application/xhtml+xml; charset=utf-8\" http-equiv=\"Content-Type\"/><meta content=\"no-cache\" name=\"Cache-Control\"/><title>narendra modi - Google Search</title><style>a{text-decoration:none;color:inherit}a:hover{text-decoration:underline}a img{border:0}body{font-family:arial,sans-serif;padding:8px;margin:0 auto;max-width:700px;min-width:240px;}.FbhRzb{border-left:thin solid #dadce0;border-right:thin solid #dadce0;border-top:thin solid #dadce0;height:40px;overflow:hidden}.n692Zd{margin-bottom:10px}.cvifge{height:40px;border-spacing:0}.QvGUP{height:40px;padding:0 8px 0 8px;vertical-align:top}.O4cRJf{height:40px;width:100%;padding:0;padding-right:16px}.O1ePr{height:40px;padding:0;vertical-align:top}.kgJEQe{height:36px;width:98px;vertical-align:top;margin-top:4px}.lXLRf{vertical-align:top}.MhzMZd{border:0;vertical-align:middle;font-size:14px;height:40px;padding:0;width:100%;padding-left:16px}.xB0fq{height:40px;border:none;font-size:14px;background-color:#1a73e8;color:#fff;padding:0 16px;margin:0;vertical-align:top;cursor:pointer}.xB0fq:focus{border:1px solid #1a73e8}.M7pB2{border:thin solid #dadce0;margin:0 0 3px 0;font-size:13px;font-weight:500;height:40px}.euZec{width:100%;height:40px;text-align:center;border-spacing:0}table.euZec td{padding:0;width:25%}.QIqI7{display:inline-block;padding-top:4px;font-weight:bold;color:#4285f4}.EY24We{border-bottom:2px solid #4285f4}.CsQyDc{display:inline-block;color:#70757a}.TuS8Ad{font-size:14px}.HddGcc{padding:8px;color:#70757a}.dzp8ae{font-weight:bold;color:#3c4043}.rEM8G{color:#70757a}.bookcf{table-layout:fixed;width:100%;border-spacing:0}.InWNIe{text-align:center}.uZgmoc{border:thin solid #dadce0;color:#70757a;font-size:14px;text-align:center;table-layout:fixed;width:100%}.frGj1b{display:block;padding:12px 0 12px 0;width:100%}.BnJWBc{text-align:center;padding:6px 0 13px 0;height:35px}.e3goi{vertical-align:top;padding:0;height:180px}.GpQGbf{margin:auto;border-collapse:collapse;border-spacing:0;width:100%}</style></head><body><style>.X6ZCif{color:#202124;font-size:11px;line-height:16px;display:inline-block;padding-top:2px;overflow:hidden;padding-bottom:4px;width:100%}.TwVfHd{border-radius:16px;border:thin solid #dadce0;display:inline-block;padding:8px 8px;margin-right:8px;margin-bottom:4px}.yekiAe{background-color:#dadce0}.jjVJ4e{width:100%}.ezO2md{border:thin solid #dadce0;padding:12px 16px 12px 16px;margin-bottom:10px;font-family:arial,sans-serif}.lIMUZd{font-family:arial,sans-serif}.RntSmf{border-spacing:0}.lgD2Tc{width:100%}.SpelHe{text-align:center}.SpelHe{position:relative}.kCmkOe{position:relative}.kCmkOe{width:162px;height:140px;line-height:140px;overflow:'hidden';text-align:center}.DS1iW{text-align:center;margin:auto;vertical-align:middle;max-width:162px;max-height:140px}.AlD19d{padding-top:2px;padding-bottom:8px;}.fYyStc{word-break:break-word}.ynsChf{display:block;white-space:nowrap;overflow:hidden;text-overflow:ellipsis}.Fj3V3b{color:#1967d2;font-size:14px;line-height:20px}.FrIlee{color:#202124;font-size:11px;line-height:16px}.F9iS2e{color:#70757a;font-size:11px;line-height:16px}.WMQ2Le{color:#70757a;font-size:12px;line-height:16px}.x3G5ab{color:#202124;font-size:12px;line-height:16px}.fuLhoc{color:#1967d2;font-size:16px;line-height:20px}.epoveb{font-size:24px;line-height:28px;font-weight:400;color:#202124}.dXDvrc{color:#0d652d;font-size:14px;line-height:20px;word-wrap:break-word}.dloBPe{font-weight:bold}.YVIcad{color:#70757a}.JkVVdd{color:#ea4335}.oXZRFd{color:#ea4335}.MQHtg{color:#fbbc04}.pyMRrb{color:#1e8e3e}.EtTZid{color:#1e8e3e}.M3vVJe{color:#1967d2}.qXLe6d{display:block}.NHQNef{font-style:italic}.Cb8Z7c{white-space:pre}a.ZWRArf{text-decoration:none}a .CVA68e:hover{text-decoration:underline}</style><div class=\"n692Zd\"><div class=\"BnJWBc\"><a class=\"lXLRf\" href=\"/?sa=X&amp;sca_esv=539b7d30e843b5e1&amp;rlz=1C1GCEA_enIN993IN993&amp;biw=1366&amp;bih=651&amp;output=images&amp;ie=UTF-8&amp;tbm=isch&amp;ved=0ahUKEwjmxJiC_byFAxUQh1YBHUK0AMoQPAgC\"><img alt=\"Google\" class=\"kgJEQe\" src=\"/images/branding/searchlogo/1x/googlelogo_desk_heirloom_color_150x55dp.gif\"/></a></div><div class=\"FbhRzb\"><form action=\"/search\"><input name=\"sca_esv\" type=\"hidden\" value=\"539b7d30e843b5e1\"/><input name=\"rlz\" type=\"hidden\" value=\"1C1GCEA_enIN993IN993\"/><input name=\"biw\" type=\"hidden\" value=\"1366\"/><input name=\"bih\" type=\"hidden\" value=\"651\"/><input name=\"ie\" type=\"hidden\" value=\"ISO-8859-1\"/><input name=\"tbm\" type=\"hidden\" value=\"isch\"/><input name=\"oq\" type=\"hidden\"/><input name=\"aqs\" type=\"hidden\"/><table class=\"cvifge\"><tr><td class=\"O4cRJf\"><input class=\"MhzMZd\" name=\"q\" type=\"text\" value=\"narendra modi\"/></td><td class=\"O1ePr\"><input class=\"xB0fq\" type=\"submit\" value=\"Search\"/></td></tr></table></form></div><div class=\"M7pB2\"><table class=\"euZec\"><tbody><tr><td><a class=\"CsQyDc\" href=\"/search?q=narendra+modi&amp;sca_esv=539b7d30e843b5e1&amp;rlz=1C1GCEA_enIN993IN993&amp;biw=1366&amp;bih=651&amp;ie=UTF-8&amp;source=lnms&amp;uds=AMwkrPvHT71HLFq-RiTLA8h-NTpWZJu9PIL4Aggkj3W1L5Fg6TGbGBOoyvheaxhkAao4vqS-TwzgKwgOJrqR3E3oou0ikrsBKEDnKZbnrA6ssCs1gdmAltLE-ycs3WAXrwxFFu-VfhqqcI768wBndHHbLLj1kZLS8ykx-mPJotvycTNdX2uhMkVnDaIZPxpz-N61Tl3cFq49s1QQOOXdAD5aoXs78wRvAoPoAdxRBCJj1DhtX5clF34DdjQUjdxCkljV1R3Xo0Q5gv5FR8cczmSzkeyRceL3pcyWlr-PXCiYQEMPDvLaVcw&amp;sa=X&amp;ved=0ahUKEwjmxJiC_byFAxUQh1YBHUK0AMoQ_AUIBCgA\">ALL</a></td><td><a class=\"CsQyDc\" href=\"/search?q=narendra+modi&amp;sca_esv=539b7d30e843b5e1&amp;rlz=1C1GCEA_enIN993IN993&amp;biw=1366&amp;bih=651&amp;ie=UTF-8&amp;tbm=nws&amp;source=lnms&amp;uds=AMwkrPvHT71HLFq-RiTLA8h-NTpWZJu9PIL4Aggkj3W1L5Fg6TGbGBOoyvheaxhkAao4vqS-TwzgKwgOJrqR3E3oou0ikrsBKEDnKZbnrA6ssCs1gdmAltLE-ycs3WAXrwxFFu-VfhqqcI768wBndHHbLLj1kZLS8ykx-mPJotvycTNdX2uhMkVnDaIZPxpz-N61Tl3cFq49s1QQOOXdAD5aoXs78wRvAoPoAdxRBCJj1DhtX5clF34DdjQUjdxCkljV1R3Xo0Q5gv5FR8cczmSzkeyRceL3pcyWlr-PXCiYQEMPDvLaVcw&amp;sa=X&amp;ved=0ahUKEwjmxJiC_byFAxUQh1YBHUK0AMoQ_AUIBSgB\">NEWS</a></td><td class=\"EY24We\"><span class=\"QIqI7\">IMAGES</span></td><td><a class=\"CsQyDc\" href=\"/search?q=narendra+modi&amp;sca_esv=539b7d30e843b5e1&amp;rlz=1C1GCEA_enIN993IN993&amp;biw=1366&amp;bih=651&amp;ie=UTF-8&amp;tbm=vid&amp;source=lnms&amp;uds=AMwkrPvHT71HLFq-RiTLA8h-NTpWZJu9PIL4Aggkj3W1L5Fg6TGbGBOoyvheaxhkAao4vqS-TwzgKwgOJrqR3E3oou0ikrsBKEDnKZbnrA6ssCs1gdmAltLE-ycs3WAXrwxFFu-VfhqqcI768wBndHHbLLj1kZLS8ykx-mPJotvycTNdX2uhMkVnDaIZPxpz-N61Tl3cFq49s1QQOOXdAD5aoXs78wRvAoPoAdxRBCJj1DhtX5clF34DdjQUjdxCkljV1R3Xo0Q5gv5FR8cczmSzkeyRceL3pcyWlr-PXCiYQEMPDvLaVcw&amp;sa=X&amp;ved=0ahUKEwjmxJiC_byFAxUQh1YBHUK0AMoQ_AUIBygD\">VIDEOS</a></td></tr></tbody></table></div></div><div class=\"X6ZCif\"><a class=\"TwVfHd\" href=\"/search?sca_esv=539b7d30e843b5e1&amp;rlz=1C1GCEA_enIN993IN993&amp;biw=1366&amp;bih=651&amp;ie=UTF-8&amp;tbm=isch&amp;q=narendra+modi&amp;chips=q:narendra+modi,g_1:wallpaper&amp;sa=X&amp;ved=0ahUKEwjmxJiC_byFAxUQh1YBHUK0AMoQ4lYICygA\">wallpaper</a><a class=\"TwVfHd\" href=\"/search?sca_esv=539b7d30e843b5e1&amp;rlz=1C1GCEA_enIN993IN993&amp;biw=1366&amp;bih=651&amp;ie=UTF-8&amp;tbm=isch&amp;q=narendra+modi&amp;chips=q:narendra+modi,g_1:prime+minister&amp;sa=X&amp;ved=0ahUKEwjmxJiC_byFAxUQh1YBHUK0AMoQ4lYIDCgB\">prime minister</a><a class=\"TwVfHd\" href=\"/search?sca_esv=539b7d30e843b5e1&amp;rlz=1C1GCEA_enIN993IN993&amp;biw=1366&amp;bih=651&amp;ie=UTF-8&amp;tbm=isch&amp;q=narendra+modi&amp;chips=q:narendra+modi,g_1:house&amp;sa=X&amp;ved=0ahUKEwjmxJiC_byFAxUQh1YBHUK0AMoQ4lYIDSgC\">house</a><a class=\"TwVfHd\" href=\"/search?sca_esv=539b7d30e843b5e1&amp;rlz=1C1GCEA_enIN993IN993&amp;biw=1366&amp;bih=651&amp;ie=UTF-8&amp;tbm=isch&amp;q=narendra+modi&amp;chips=q:narendra+modi,g_1:drawing&amp;sa=X&amp;ved=0ahUKEwjmxJiC_byFAxUQh1YBHUK0AMoQ4lYIDigD\">drawing</a><a class=\"TwVfHd\" href=\"/search?sca_esv=539b7d30e843b5e1&amp;rlz=1C1GCEA_enIN993IN993&amp;biw=1366&amp;bih=651&amp;ie=UTF-8&amp;tbm=isch&amp;q=narendra+modi&amp;chips=q:narendra+modi,g_1:independence+day&amp;sa=X&amp;ved=0ahUKEwjmxJiC_byFAxUQh1YBHUK0AMoQ4lYIDygE\">independence day</a><a class=\"TwVfHd\" href=\"/search?sca_esv=539b7d30e843b5e1&amp;rlz=1C1GCEA_enIN993IN993&amp;biw=1366&amp;bih=651&amp;ie=UTF-8&amp;tbm=isch&amp;q=narendra+modi&amp;chips=q:narendra+modi,g_1:new&amp;sa=X&amp;ved=0ahUKEwjmxJiC_byFAxUQh1YBHUK0AMoQ4lYIECgF\">new</a><a class=\"TwVfHd\" href=\"/search?sca_esv=539b7d30e843b5e1&amp;rlz=1C1GCEA_enIN993IN993&amp;biw=1366&amp;bih=651&amp;ie=UTF-8&amp;tbm=isch&amp;q=narendra+modi&amp;chips=q:narendra+modi,g_1:painting&amp;sa=X&amp;ved=0ahUKEwjmxJiC_byFAxUQh1YBHUK0AMoQ4lYIESgG\">painting</a><a class=\"TwVfHd\" href=\"/search?sca_esv=539b7d30e843b5e1&amp;rlz=1C1GCEA_enIN993IN993&amp;biw=1366&amp;bih=651&amp;ie=UTF-8&amp;tbm=isch&amp;q=narendra+modi&amp;chips=q:narendra+modi,g_1:birthday&amp;sa=X&amp;ved=0ahUKEwjmxJiC_byFAxUQh1YBHUK0AMoQ4lYIEigH\">birthday</a><a class=\"TwVfHd\" href=\"/search?sca_esv=539b7d30e843b5e1&amp;rlz=1C1GCEA_enIN993IN993&amp;biw=1366&amp;bih=651&amp;ie=UTF-8&amp;tbm=isch&amp;q=narendra+modi&amp;chips=q:narendra+modi,g_1:standing&amp;sa=X&amp;ved=0ahUKEwjmxJiC_byFAxUQh1YBHUK0AMoQ4lYIEygI\">standing</a><a class=\"TwVfHd\" href=\"/search?sca_esv=539b7d30e843b5e1&amp;rlz=1C1GCEA_enIN993IN993&amp;biw=1366&amp;bih=651&amp;ie=UTF-8&amp;tbm=isch&amp;q=narendra+modi&amp;chips=q:narendra+modi,g_1:dress&amp;sa=X&amp;ved=0ahUKEwjmxJiC_byFAxUQh1YBHUK0AMoQ4lYIFCgJ\">dress</a></div><div><table class=\"GpQGbf\"><tr><td align=\"center\" class=\"e3goi\"><div class=\"jjVJ4e\"> <div> <div class=\"lIMUZd\"><div><table class=\"RntSmf\"><tr><td><a href=\"/url?q=https://en.wikipedia.org/wiki/Narendra_Modi&amp;sa=U&amp;ved=2ahUKEwjmxJiC_byFAxUQh1YBHUK0AMoQqoUBegQIBxAB&amp;usg=AOvVaw2_riJ3hOx_l1pZqH0M1MEp\"><div class=\"kCmkOe\"><img alt=\"\" class=\"DS1iW\" src=\"https://encrypted-tbn0.gstatic.com/images?q=tbn:ANd9GcTw7G48FnLNCO2gGjMABD7W_0PPI2v9HQts8jXdtqEomxahKG15PaUEOEo2H3U&amp;s\"/></div></a></td></tr><tr><td><a href=\"/url?q=https://en.wikipedia.org/wiki/Narendra_Modi&amp;sa=U&amp;ved=2ahUKEwjmxJiC_byFAxUQh1YBHUK0AMoQr4kDegQIBxAC&amp;usg=AOvVaw2iT0y5DoNxAhPkScoyNz0g\"><div class=\"AlD19d\"> <span class=\"qXLe6d x3G5ab\"> <span class=\"fYyStc\">Narendra Modi - Wikipedia</span> </span> <span class=\"qXLe6d F9iS2e\"> <span class=\"fYyStc\">en.wikipedia.org</span> </span> </div></a></td></tr></table></div></div> </div> </div></td><td align=\"center\" class=\"e3goi\"><div class=\"jjVJ4e\"> <div> <div class=\"lIMUZd\"><div><table class=\"RntSmf\"><tr><td><a href=\"/url?q=https://www.facebook.com/narendramodi/&amp;sa=U&amp;ved=2ahUKEwjmxJiC_byFAxUQh1YBHUK0AMoQqoUBegQIExAB&amp;usg=AOvVaw0zAMKtZ3T7iDKVhha_qzgw\"><div class=\"kCmkOe\"><img alt=\"\" class=\"DS1iW\" src=\"https://encrypted-tbn0.gstatic.com/images?q=tbn:ANd9GcRJqHzg9DJJPRbcFIrzl2LM_9PxyNSoyVF4mC09eVrcfdfo_5-dY8IApJu0MEM&amp;s\"/></div></a></td></tr><tr><td><a href=\"/url?q=https://www.facebook.com/narendramodi/&amp;sa=U&amp;ved=2ahUKEwjmxJiC_byFAxUQh1YBHUK0AMoQr4kDegQIExAC&amp;usg=AOvVaw0kJ2pf98myO_-VfGqsV38h\"><div class=\"AlD19d\"> <span class=\"qXLe6d x3G5ab\"> <span class=\"fYyStc\">Narendra Modi</span> </span> <span class=\"qXLe6d F9iS2e\"> <span class=\"fYyStc\">www.facebook.com</span> </span> </div></a></td></tr></table></div></div> </div> </div></td><td align=\"center\" class=\"e3goi\"><div class=\"jjVJ4e\"> <div> <div class=\"lIMUZd\"><div><table class=\"RntSmf\"><tr><td><a href=\"/url?q=https://indianexpress.com/about/narendra-modi/&amp;sa=U&amp;ved=2ahUKEwjmxJiC_byFAxUQh1YBHUK0AMoQqoUBegQIEhAB&amp;usg=AOvVaw1EvRoSP1CI22Wu3EoclD5z\"><div class=\"kCmkOe\"><img alt=\"\" class=\"DS1iW\" src=\"https://encrypted-tbn0.gstatic.com/images?q=tbn:ANd9GcTJXJPzejSdnCEfHCkHDOsQkBksgHRmJpZiajwNHnRWjcLhpImqSb8YR5RLLVA&amp;s\"/></div></a></td></tr><tr><td><a href=\"/url?q=https://indianexpress.com/about/narendra-modi/&amp;sa=U&amp;ved=2ahUKEwjmxJiC_byFAxUQh1YBHUK0AMoQr4kDegQIEhAC&amp;usg=AOvVaw0NG5S7Ebi5hqeBr27BbQEV\"><div class=\"AlD19d\"> <span class=\"qXLe6d x3G5ab\"> <span class=\"fYyStc\">Latest News on Narendra...</span> </span> <span class=\"qXLe6d F9iS2e\"> <span class=\"fYyStc\">indianexpress.com</span> </span> </div></a></td></tr></table></div></div> </div> </div></td><td align=\"center\" class=\"e3goi\"><div class=\"jjVJ4e\"> <div> <div class=\"lIMUZd\"><div><table class=\"RntSmf\"><tr><td><a href=\"/url?q=https://www.flipkart.com/narendra-modi-hd-wallpaper-art-paper-fine-print/p/itm6b11800fdb82e%3Fpid%3DPOSEU5DCVMEGGTH5%26cmpid%3Dproduct.share.pp%26_refId%3DPP.a8c35381-9973-40b0-8497-13441c05daf7.POSEU5DCVMEGGTH5&amp;sa=U&amp;ved=2ahUKEwjmxJiC_byFAxUQh1YBHUK0AMoQqoUBegQIDxAB&amp;usg=AOvVaw39NWDq96uwor4k_2v0-4xc\"><div class=\"kCmkOe\"><img alt=\"\" class=\"DS1iW\" src=\"https://encrypted-tbn0.gstatic.com/images?q=tbn:ANd9GcT52ljobc7qnkB7b01CidNeegF5evtDSWXs_4m8W3CnDQnochmOGQrqInvnSQ&amp;s\"/></div></a></td></tr><tr><td><a href=\"/url?q=https://www.flipkart.com/narendra-modi-hd-wallpaper-art-paper-fine-print/p/itm6b11800fdb82e%3Fpid%3DPOSEU5DCVMEGGTH5%26cmpid%3Dproduct.share.pp%26_refId%3DPP.a8c35381-9973-40b0-8497-13441c05daf7.POSEU5DCVMEGGTH5&amp;sa=U&amp;ved=2ahUKEwjmxJiC_byFAxUQh1YBHUK0AMoQr4kDegQIDxAC&amp;usg=AOvVaw0NcazkLg2JaZvE3Qqj7F9A\"><div class=\"AlD19d\"> <span class=\"qXLe6d x3G5ab\"> <span class=\"fYyStc\">Narendra Modi HD Wallpaper...</span> </span> <span class=\"qXLe6d F9iS2e\"> <span class=\"fYyStc\">www.flipkart.com</span> </span> </div></a></td></tr></table></div></div> </div> </div></td></tr><tr><td align=\"center\" class=\"e3goi\"><div class=\"jjVJ4e\"> <div> <div class=\"lIMUZd\"><div><table class=\"RntSmf\"><tr><td><a href=\"/url?q=https://en.wikipedia.org/wiki/Public_image_of_Narendra_Modi&amp;sa=U&amp;ved=2ahUKEwjmxJiC_byFAxUQh1YBHUK0AMoQqoUBegQIDRAB&amp;usg=AOvVaw2x-mU0sXqGOrqYDgCmx2nv\"><div class=\"kCmkOe\"><img alt=\"\" class=\"DS1iW\" src=\"https://encrypted-tbn0.gstatic.com/images?q=tbn:ANd9GcQ64aoxU4HIa5PniRDogrqfIMo1UPskm1nLsVb9VGAK4kt1cy9jj22YusH46cE&amp;s\"/></div></a></td></tr><tr><td><a href=\"/url?q=https://en.wikipedia.org/wiki/Public_image_of_Narendra_Modi&amp;sa=U&amp;ved=2ahUKEwjmxJiC_byFAxUQh1YBHUK0AMoQr4kDegQIDRAC&amp;usg=AOvVaw2UzFOPUPn56dlabYSWuVzn\"><div class=\"AlD19d\"> <span class=\"qXLe6d x3G5ab\"> <span class=\"fYyStc\">Public image of Narendra...</span> </span> <span class=\"qXLe6d F9iS2e\"> <span class=\"fYyStc\">en.wikipedia.org</span> </span> </div></a></td></tr></table></div></div> </div> </div></td><td align=\"center\" class=\"e3goi\"><div class=\"jjVJ4e\"> <div> <div class=\"lIMUZd\"><div><table class=\"RntSmf\"><tr><td><a href=\"/url?q=https://www.narendramodi.in/national-statement-by-prime-minister-narendra-modi-at-the-summit-for-democracy-558844&amp;sa=U&amp;ved=2ahUKEwjmxJiC_byFAxUQh1YBHUK0AMoQqoUBegQIEBAB&amp;usg=AOvVaw0nF1HS_w-LZyNApjP8mTLc\"><div class=\"kCmkOe\"><img alt=\"\" class=\"DS1iW\" src=\"https://encrypted-tbn0.gstatic.com/images?q=tbn:ANd9GcTvsVxGdzOxx9q0xe3xuHV-Z80qgnli5wRp1hjrdxueqHjyjs0a4PLp5dB0__I&amp;s\"/></div></a></td></tr><tr><td><a href=\"/url?q=https://www.narendramodi.in/national-statement-by-prime-minister-narendra-modi-at-the-summit-for-democracy-558844&amp;sa=U&amp;ved=2ahUKEwjmxJiC_byFAxUQh1YBHUK0AMoQr4kDegQIEBAC&amp;usg=AOvVaw2_Wo1Qh0M4uC8p-m8Y35aw\"><div class=\"AlD19d\"> <span class=\"qXLe6d x3G5ab\"> <span class=\"fYyStc\">National Statement by Prime...</span> </span> <span class=\"qXLe6d F9iS2e\"> <span class=\"fYyStc\">www.narendramodi.in</span> </span> </div></a></td></tr></table></div></div> </div> </div></td><td align=\"center\" class=\"e3goi\"><div class=\"jjVJ4e\"> <div> <div class=\"lIMUZd\"><div><table class=\"RntSmf\"><tr><td><a href=\"/url?q=https://www.news18.com/topics/narendra-modi/&amp;sa=U&amp;ved=2ahUKEwjmxJiC_byFAxUQh1YBHUK0AMoQqoUBegQIDhAB&amp;usg=AOvVaw0JyKI2SyhyLua7T8GBpB_t\"><div class=\"kCmkOe\"><img alt=\"\" class=\"DS1iW\" src=\"https://encrypted-tbn0.gstatic.com/images?q=tbn:ANd9GcR9Kr7EwWPD97YhdtZXbTvOrU06q9YdKb0bCMxJhWB3c8Jr5VwMSNzqMDX4q-w&amp;s\"/></div></a></td></tr><tr><td><a href=\"/url?q=https://www.news18.com/topics/narendra-modi/&amp;sa=U&amp;ved=2ahUKEwjmxJiC_byFAxUQh1YBHUK0AMoQr4kDegQIDhAC&amp;usg=AOvVaw0PNHgHlTzjje1gQUrzCNHy\"><div class=\"AlD19d\"> <span class=\"qXLe6d x3G5ab\"> <span class=\"fYyStc\">Narendra Modi: Biography,...</span> </span> <span class=\"qXLe6d F9iS2e\"> <span class=\"fYyStc\">www.news18.com</span> </span> </div></a></td></tr></table></div></div> </div> </div></td><td align=\"center\" class=\"e3goi\"><div class=\"jjVJ4e\"> <div> <div class=\"lIMUZd\"><div><table class=\"RntSmf\"><tr><td><a href=\"/url?q=https://www.india.gov.in/my-government/indian-parliament/narendra-modi&amp;sa=U&amp;ved=2ahUKEwjmxJiC_byFAxUQh1YBHUK0AMoQqoUBegQIDBAB&amp;usg=AOvVaw2yv4RlngpEJjpjXqjLzNjY\"><div class=\"kCmkOe\"><img alt=\"\" class=\"DS1iW\" src=\"https://encrypted-tbn0.gstatic.com/images?q=tbn:ANd9GcSDRQcRaN4aGU3AOvVF5oXHWsylRc8gkHPAU_uLH40oBeDXf4yApmwK0XnOcw&amp;s\"/></div></a></td></tr><tr><td><a href=\"/url?q=https://www.india.gov.in/my-government/indian-parliament/narendra-modi&amp;sa=U&amp;ved=2ahUKEwjmxJiC_byFAxUQh1YBHUK0AMoQr4kDegQIDBAC&amp;usg=AOvVaw1ADGPnRpwtXCYViAW1UsHe\"><div class=\"AlD19d\"> <span class=\"qXLe6d x3G5ab\"> <span class=\"fYyStc\">Narendra Modi| National...</span> </span> <span class=\"qXLe6d F9iS2e\"> <span class=\"fYyStc\">www.india.gov.in</span> </span> </div></a></td></tr></table></div></div> </div> </div></td></tr><tr><td align=\"center\" class=\"e3goi\"><div class=\"jjVJ4e\"> <div> <div class=\"lIMUZd\"><div><table class=\"RntSmf\"><tr><td><a href=\"/url?q=https://www.business-standard.com/about/who-is-narendra-modi&amp;sa=U&amp;ved=2ahUKEwjmxJiC_byFAxUQh1YBHUK0AMoQqoUBegQIChAB&amp;usg=AOvVaw251-9yWQptAO_Nqb--57kR\"><div class=\"kCmkOe\"><img alt=\"\" class=\"DS1iW\" src=\"https://encrypted-tbn0.gstatic.com/images?q=tbn:ANd9GcTngqLCvsrv13Ek1yp0193bNFsEjPPn3iU4kkTv38Na9O-azXCDoOh7an1iQLg&amp;s\"/></div></a></td></tr><tr><td><a href=\"/url?q=https://www.business-standard.com/about/who-is-narendra-modi&amp;sa=U&amp;ved=2ahUKEwjmxJiC_byFAxUQh1YBHUK0AMoQr4kDegQIChAC&amp;usg=AOvVaw3Fs226maag5YIFq0xuEwKX\"><div class=\"AlD19d\"> <span class=\"qXLe6d x3G5ab\"> <span class=\"fYyStc\">Narendra Modi | Latest News...</span> </span> <span class=\"qXLe6d F9iS2e\"> <span class=\"fYyStc\">www.business-standard.com</span> </span> </div></a></td></tr></table></div></div> </div> </div></td><td align=\"center\" class=\"e3goi\"><div class=\"jjVJ4e\"> <div> <div class=\"lIMUZd\"><div><table class=\"RntSmf\"><tr><td><a href=\"/url?q=https://www.indiatoday.in/india/story/exclusive-pm-narendra-modi-opposition-lack-of-jobs-inflation-charge-2481986-2023-12-29&amp;sa=U&amp;ved=2ahUKEwjmxJiC_byFAxUQh1YBHUK0AMoQqoUBegQIERAB&amp;usg=AOvVaw3OFoRVTCz1HdVPxg69NUaD\"><div class=\"kCmkOe\"><img alt=\"\" class=\"DS1iW\" src=\"https://encrypted-tbn0.gstatic.com/images?q=tbn:ANd9GcRFlVp4pCM7nOgmMfUWmAAupztiOmOTzinBCnzlM-2O_1Zd_Ehqvu1Ka3PAQv0&amp;s\"/></div></a></td></tr><tr><td><a href=\"/url?q=https://www.indiatoday.in/india/story/exclusive-pm-narendra-modi-opposition-lack-of-jobs-inflation-charge-2481986-2023-12-29&amp;sa=U&amp;ved=2ahUKEwjmxJiC_byFAxUQh1YBHUK0AMoQr4kDegQIERAC&amp;usg=AOvVaw2kUmU3PVbORGM0Dsz03H3p\"><div class=\"AlD19d\"> <span class=\"qXLe6d x3G5ab\"> <span class=\"fYyStc\">Exclusive: What PM Narendra...</span> </span> <span class=\"qXLe6d F9iS2e\"> <span class=\"fYyStc\">www.indiatoday.in</span> </span> </div></a></td></tr></table></div></div> </div> </div></td><td align=\"center\" class=\"e3goi\"><div class=\"jjVJ4e\"> <div> <div class=\"lIMUZd\"><div><table class=\"RntSmf\"><tr><td><a href=\"/url?q=https://spmrf.org/modi-an-ideational-portrait/&amp;sa=U&amp;ved=2ahUKEwjmxJiC_byFAxUQh1YBHUK0AMoQqoUBegQICxAB&amp;usg=AOvVaw3W66hqVxIYynYEJMFr1Kpu\"><div class=\"kCmkOe\"><img alt=\"\" class=\"DS1iW\" src=\"https://encrypted-tbn0.gstatic.com/images?q=tbn:ANd9GcQHN0NC_Jve6ATpGeKyvc1VFiiOh3DUlTD-6WiaiQp6tsyqVj2KzgzEtelyGA&amp;s\"/></div></a></td></tr><tr><td><a href=\"/url?q=https://spmrf.org/modi-an-ideational-portrait/&amp;sa=U&amp;ved=2ahUKEwjmxJiC_byFAxUQh1YBHUK0AMoQr4kDegQICxAC&amp;usg=AOvVaw1RQSNygylmKykSYdsGhDvy\"><div class=\"AlD19d\"> <span class=\"qXLe6d x3G5ab\"> <span class=\"fYyStc\">Modi – an ideational...</span> </span> <span class=\"qXLe6d F9iS2e\"> <span class=\"fYyStc\">spmrf.org</span> </span> </div></a></td></tr></table></div></div> </div> </div></td><td align=\"center\" class=\"e3goi\"><div class=\"jjVJ4e\"> <div> <div class=\"lIMUZd\"><div><table class=\"RntSmf\"><tr><td><a href=\"/url?q=https://www.indiatoday.in/india/story/pm-modi-birthday-sanitation-drives-health-camps-bjp-1853679-2021-09-16&amp;sa=U&amp;ved=2ahUKEwjmxJiC_byFAxUQh1YBHUK0AMoQqoUBegQICRAB&amp;usg=AOvVaw3WtnguKqN4iGQ3k4nxDr4d\"><div class=\"kCmkOe\"><img alt=\"\" class=\"DS1iW\" src=\"https://encrypted-tbn0.gstatic.com/images?q=tbn:ANd9GcTBSwvSwKBlRUAZkr67W5xPjJZdtX_JFgPraEBWMDlX0ssY_VPVyjrwN7DkRA&amp;s\"/></div></a></td></tr><tr><td><a href=\"/url?q=https://www.indiatoday.in/india/story/pm-modi-birthday-sanitation-drives-health-camps-bjp-1853679-2021-09-16&amp;sa=U&amp;ved=2ahUKEwjmxJiC_byFAxUQh1YBHUK0AMoQr4kDegQICRAC&amp;usg=AOvVaw0zysONzpFTXEe0ny0t063m\"><div class=\"AlD19d\"> <span class=\"qXLe6d x3G5ab\"> <span class=\"fYyStc\">PM Modi's 71st birthday...</span> </span> <span class=\"qXLe6d F9iS2e\"> <span class=\"fYyStc\">www.indiatoday.in</span> </span> </div></a></td></tr></table></div></div> </div> </div></td></tr><tr><td align=\"center\" class=\"e3goi\"><div class=\"jjVJ4e\"> <div> <div class=\"lIMUZd\"><div><table class=\"RntSmf\"><tr><td><a href=\"/url?q=https://gulistannewstv.com/pm-modi-weve-to-win-everyones-trust-in-next-100-days/&amp;sa=U&amp;ved=2ahUKEwjmxJiC_byFAxUQh1YBHUK0AMoQqoUBegQIAhAB&amp;usg=AOvVaw0x4GfNbPABBJjjE93Wg1MJ\"><div class=\"kCmkOe\"><img alt=\"\" class=\"DS1iW\" src=\"https://encrypted-tbn0.gstatic.com/images?q=tbn:ANd9GcQ_no8AjPgYN0MU-LKpdaegF05G4-GJi0WCB58OXLdacGXTYbwOjYodtTbQfA&amp;s\"/></div></a></td></tr><tr><td><a href=\"/url?q=https://gulistannewstv.com/pm-modi-weve-to-win-everyones-trust-in-next-100-days/&amp;sa=U&amp;ved=2ahUKEwjmxJiC_byFAxUQh1YBHUK0AMoQr4kDegQIAhAC&amp;usg=AOvVaw2D5GTdZvOf42nQvNV9nvZd\"><div class=\"AlD19d\"> <span class=\"qXLe6d x3G5ab\"> <span class=\"fYyStc\">PM Modi: “We've to win...</span> </span> <span class=\"qXLe6d F9iS2e\"> <span class=\"fYyStc\">gulistannewstv.com</span> </span> </div></a></td></tr></table></div></div> </div> </div></td><td align=\"center\" class=\"e3goi\"><div class=\"jjVJ4e\"> <div> <div class=\"lIMUZd\"><div><table class=\"RntSmf\"><tr><td><a href=\"/url?q=https://www.livelaw.in/top-stories/legal-language-must-be-simplified-common-man-should-feel-law-is-his-own-prime-minister-narendra-modi-238502&amp;sa=U&amp;ved=2ahUKEwjmxJiC_byFAxUQh1YBHUK0AMoQqoUBegQIARAB&amp;usg=AOvVaw0jLeowYFYsN-E9_7UW2M1O\"><div class=\"kCmkOe\"><img alt=\"\" class=\"DS1iW\" src=\"https://encrypted-tbn0.gstatic.com/images?q=tbn:ANd9GcQceBHWWued02KxWPuCIEcGbzKdDzUJT5XOUXNsY8PJ1aJ90yaUtc4mObK7nA&amp;s\"/></div></a></td></tr><tr><td><a href=\"/url?q=https://www.livelaw.in/top-stories/legal-language-must-be-simplified-common-man-should-feel-law-is-his-own-prime-minister-narendra-modi-238502&amp;sa=U&amp;ved=2ahUKEwjmxJiC_byFAxUQh1YBHUK0AMoQr4kDegQIARAC&amp;usg=AOvVaw0G525FTvuxXhyDHqVtL-6f\"><div class=\"AlD19d\"> <span class=\"qXLe6d x3G5ab\"> <span class=\"fYyStc\">Prime Minister Narendra...</span> </span> <span class=\"qXLe6d F9iS2e\"> <span class=\"fYyStc\">www.livelaw.in</span> </span> </div></a></td></tr></table></div></div> </div> </div></td><td align=\"center\" class=\"e3goi\"><div class=\"jjVJ4e\"> <div> <div class=\"lIMUZd\"><div><table class=\"RntSmf\"><tr><td><a href=\"/url?q=https://www.news18.com/politics/independence-day-2023-5-political-messages-in-narendra-modi-red-fort-speech-8537039.html&amp;sa=U&amp;ved=2ahUKEwjmxJiC_byFAxUQh1YBHUK0AMoQqoUBegQIABAB&amp;usg=AOvVaw3OgvLtzIWOoYtcRon5kK3h\"><div class=\"kCmkOe\"><img alt=\"\" class=\"DS1iW\" src=\"https://encrypted-tbn0.gstatic.com/images?q=tbn:ANd9GcTLjhPYoHbhbM-ylTFjThc6Wa3396tbASiICa99y5U22RkdhXkn2KCjxWLknQ&amp;s\"/></div></a></td></tr><tr><td><a href=\"/url?q=https://www.news18.com/politics/independence-day-2023-5-political-messages-in-narendra-modi-red-fort-speech-8537039.html&amp;sa=U&amp;ved=2ahUKEwjmxJiC_byFAxUQh1YBHUK0AMoQr4kDegQIABAC&amp;usg=AOvVaw1zr5mt6TspS5wYytor8dyv\"><div class=\"AlD19d\"> <span class=\"qXLe6d x3G5ab\"> <span class=\"fYyStc\">5 Messages, 3 'Evils', 1...</span> </span> <span class=\"qXLe6d F9iS2e\"> <span class=\"fYyStc\">www.news18.com</span> </span> </div></a></td></tr></table></div></div> </div> </div></td><td align=\"center\" class=\"e3goi\"><div class=\"jjVJ4e\"> <div> <div class=\"lIMUZd\"><div><table class=\"RntSmf\"><tr><td><a href=\"/url?q=https://m.economictimes.com/news/politics-and-nation/you-will-find-pm-modi-in-the-life-of-child-narendra/articleshow/65839863.cms&amp;sa=U&amp;ved=2ahUKEwjmxJiC_byFAxUQh1YBHUK0AMoQqoUBegQIAxAB&amp;usg=AOvVaw1_lWV8IY9-VKqwjoVd7COz\"><div class=\"kCmkOe\"><img alt=\"\" class=\"DS1iW\" src=\"https://encrypted-tbn0.gstatic.com/images?q=tbn:ANd9GcSMi8j0ak8pUYTijgbhvnGefLllqlTG9PqYj_SBNqptm2DHymtxGKwpGkYqVQ&amp;s\"/></div></a></td></tr><tr><td><a href=\"/url?q=https://m.economictimes.com/news/politics-and-nation/you-will-find-pm-modi-in-the-life-of-child-narendra/articleshow/65839863.cms&amp;sa=U&amp;ved=2ahUKEwjmxJiC_byFAxUQh1YBHUK0AMoQr4kDegQIAxAC&amp;usg=AOvVaw1KBnICWqYoZ9BVvs4ROnE_\"><div class=\"AlD19d\"> <span class=\"qXLe6d x3G5ab\"> <span class=\"fYyStc\">PM Modi News | Narendra...</span> </span> <span class=\"qXLe6d F9iS2e\"> <span class=\"fYyStc\">m.economictimes.com</span> </span> </div></a></td></tr></table></div></div> </div> </div></td></tr><tr><td align=\"center\" class=\"e3goi\"><div class=\"jjVJ4e\"> <div> <div class=\"lIMUZd\"><div><table class=\"RntSmf\"><tr><td><a href=\"/url?q=https://www.zeebiz.com/economy-infra/news-pm-narendra-modi-mp-visit-to-launch-projects-worth-rs-12600-crore-in-madhya-pradesh-257618&amp;sa=U&amp;ved=2ahUKEwjmxJiC_byFAxUQh1YBHUK0AMoQqoUBegQIBhAB&amp;usg=AOvVaw29dLQg93_4xy-t98miCCZb\"><div class=\"kCmkOe\"><img alt=\"\" class=\"DS1iW\" src=\"https://encrypted-tbn0.gstatic.com/images?q=tbn:ANd9GcRb-qFq0CKnsUiaOBuGFNDAB91mVWbBlGEchFsd4elrtYuhKT53y6WeH8xCqzs&amp;s\"/></div></a></td></tr><tr><td><a href=\"/url?q=https://www.zeebiz.com/economy-infra/news-pm-narendra-modi-mp-visit-to-launch-projects-worth-rs-12600-crore-in-madhya-pradesh-257618&amp;sa=U&amp;ved=2ahUKEwjmxJiC_byFAxUQh1YBHUK0AMoQr4kDegQIBhAC&amp;usg=AOvVaw1ZFzxJas9qRx6ytH1DFhm-\"><div class=\"AlD19d\"> <span class=\"qXLe6d x3G5ab\"> <span class=\"fYyStc\">PM Modi to launch projects...</span> </span> <span class=\"qXLe6d F9iS2e\"> <span class=\"fYyStc\">www.zeebiz.com</span> </span> </div></a></td></tr></table></div></div> </div> </div></td><td align=\"center\" class=\"e3goi\"><div class=\"jjVJ4e\"> <div> <div class=\"lIMUZd\"><div><table class=\"RntSmf\"><tr><td><a href=\"/url?q=https://www.ndtv.com/india-news/demolished-wall-of-article-370-buried-debris-in-ground-pm-narendra-modi-in-jammu-and-kashmir-udhampur-5425706&amp;sa=U&amp;ved=2ahUKEwjmxJiC_byFAxUQh1YBHUK0AMoQqoUBegQIBRAB&amp;usg=AOvVaw2071uk5B4j0IS4v_kKtRO2\"><div class=\"kCmkOe\"><img alt=\"\" class=\"DS1iW\" src=\"https://encrypted-tbn0.gstatic.com/images?q=tbn:ANd9GcQsWpuE2zODNjWr6Ym28kwSwAHMQgXUvnZ3BPpoxFcDIA_cAtibeRVnbeWHZRk&amp;s\"/></div></a></td></tr><tr><td><a href=\"/url?q=https://www.ndtv.com/india-news/demolished-wall-of-article-370-buried-debris-in-ground-pm-narendra-modi-in-jammu-and-kashmir-udhampur-5425706&amp;sa=U&amp;ved=2ahUKEwjmxJiC_byFAxUQh1YBHUK0AMoQr4kDegQIBRAC&amp;usg=AOvVaw2SEQv-ZHAygXqjq8TfEhWz\"><div class=\"AlD19d\"> <span class=\"qXLe6d x3G5ab\"> <span class=\"fYyStc\">Demolished Wall Of Article...</span> </span> <span class=\"qXLe6d F9iS2e\"> <span class=\"fYyStc\">www.ndtv.com</span> </span> </div></a></td></tr></table></div></div> </div> </div></td><td align=\"center\" class=\"e3goi\"><div class=\"jjVJ4e\"> <div> <div class=\"lIMUZd\"><div><table class=\"RntSmf\"><tr><td><a href=\"/url?q=https://www.narendramodi.in/&amp;sa=U&amp;ved=2ahUKEwjmxJiC_byFAxUQh1YBHUK0AMoQqoUBegQIBBAB&amp;usg=AOvVaw1V9tFYR7wuXrkO3llkRFzN\"><div class=\"kCmkOe\"><img alt=\"\" class=\"DS1iW\" src=\"https://encrypted-tbn0.gstatic.com/images?q=tbn:ANd9GcQ8--uWu1_3Oc3bvfCwkO3185LsqYSyBwwR28D9AwBP_yE_rcblWbDN6KFqdg&amp;s\"/></div></a></td></tr><tr><td><a href=\"/url?q=https://www.narendramodi.in/&amp;sa=U&amp;ved=2ahUKEwjmxJiC_byFAxUQh1YBHUK0AMoQr4kDegQIBBAC&amp;usg=AOvVaw24q9SIQt5u0mnnxunq1gQ-\"><div class=\"AlD19d\"> <span class=\"qXLe6d x3G5ab\"> <span class=\"fYyStc\">Narendra Modi |...</span> </span> <span class=\"qXLe6d F9iS2e\"> <span class=\"fYyStc\">www.narendramodi.in</span> </span> </div></a></td></tr></table></div></div> </div> </div></td><td align=\"center\" class=\"e3goi\"><div class=\"jjVJ4e\"> <div> <div class=\"lIMUZd\"><div><table class=\"RntSmf\"><tr><td><a href=\"/url?q=https://www.koimoi.com/bollywood-news/jawan-shah-rukh-khan-pens-a-heartwarming-wish-on-pm-narendra-modis-birthday-may-you-get-some-time-off-from-work/&amp;sa=U&amp;ved=2ahUKEwjmxJiC_byFAxUQh1YBHUK0AMoQqoUBegQICBAB&amp;usg=AOvVaw09ExClcZn6onN75L9hk03B\"><div class=\"kCmkOe\"><img alt=\"\" class=\"DS1iW\" src=\"https://encrypted-tbn0.gstatic.com/images?q=tbn:ANd9GcTJ1LhWTBLsu6SWYZlwmLa7mWV7-e-LE3lcn_sznZCdauPnXXNf_KodADhTHVQ&amp;s\"/></div></a></td></tr><tr><td><a href=\"/url?q=https://www.koimoi.com/bollywood-news/jawan-shah-rukh-khan-pens-a-heartwarming-wish-on-pm-narendra-modis-birthday-may-you-get-some-time-off-from-work/&amp;sa=U&amp;ved=2ahUKEwjmxJiC_byFAxUQh1YBHUK0AMoQr4kDegQICBAC&amp;usg=AOvVaw2fo0vfR5TSk_ITGG6aB8ha\"><div class=\"AlD19d\"> <span class=\"qXLe6d x3G5ab\"> <span class=\"fYyStc\">Jawan' Shah Rukh Khan Pens...</span> </span> <span class=\"qXLe6d F9iS2e\"> <span class=\"fYyStc\">www.koimoi.com</span> </span> </div></a></td></tr></table></div></div> </div> </div></td></tr></table></div><table class=\"uZgmoc\"><tbody><td><a class=\"frGj1b\" href=\"/search?q=narendra+modi&amp;sca_esv=539b7d30e843b5e1&amp;rlz=1C1GCEA_enIN993IN993&amp;biw=1366&amp;bih=651&amp;ie=UTF-8&amp;tbm=isch&amp;ei=RFEZZuaSCZCO2roPwuiC0Aw&amp;start=20&amp;sa=N&amp;uds=AMwkrPvHT71HLFq-RiTLA8h-NTpWZJu9PIL4Aggkj3W1L5Fg6TGbGBOoyvheaxhkAao4vqS-TwzgKwgOJrqR3E3oou0ikrsBKEDnKZbnrA6ssCs1gdmAltLE-ycs3WAXrwxFFu-VfhqqcI768wBndHHbLLj1kZLS8ykx-mPJotvycTNdX2uhMkVnDaIZPxpz-N61Tl3cFq49s1QQOOXdAD5aoXs78wRvAoPoAdxRBCJj1DhtX5clF34DdjQUjdxCkljV1R3Xo0Q5gv5FR8cczmSzkeyRceL3pcyWlr-PXCiYQEMPDvLaVcw\">Next &gt;</a></td></tbody></table><br/><div class=\"TuS8Ad\" data-ved=\"0ahUKEwjmxJiC_byFAxUQh1YBHUK0AMoQpyoIUg\"><style>.VYM29{font-weight:bold}</style><div align=\"center\" class=\"HddGcc\"><span class=\"VYM29\">Nashik, Maharashtra</span><span> - </span><span>From your IP address</span><span> - </span><a href=\"/url?q=https://support.google.com/websearch%3Fp%3Dws_settings_location%26hl%3Den-IN&amp;opi=89978449&amp;sa=U&amp;ved=0ahUKEwjmxJiC_byFAxUQh1YBHUK0AMoQty4IUw&amp;usg=AOvVaw3n5z7elN03QBTkjySPkreS\">Learn more</a></div><div align=\"center\"><a class=\"rEM8G\" href=\"/url?q=https://accounts.google.com/ServiceLogin%3Fcontinue%3Dhttps://www.google.com/search%253Fsca_esv%253D539b7d30e843b5e1%2526rlz%253D1C1GCEA_enIN993IN993%2526sxsrf%253DACQVn08iB5YpC1bZXCXKu3koOFycOBp7ow:1712934758025%2526q%253Dnarendra%252Bmodi%2526uds%253DAMwkrPvHT71HLFq-RiTLA8h-NTpWZJu9PIL4Aggkj3W1L5Fg6TGbGBOoyvheaxhkAao4vqS-TwzgKwgOJrqR3E3oou0ikrsBKEDnKZbnrA6ssCs1gdmAltLE-ycs3WAXrwxFFu-VfhqqcI768wBndHHbLLj1kZLS8ykx-mPJotvycTNdX2uhMkVnDaIZPxpz-N61Tl3cFq49s1QQOOXdAD5aoXs78wRvAoPoAdxRBCJj1DhtX5clF34DdjQUjdxCkljV1R3Xo0Q5gv5FR8cczmSzkeyRceL3pcyWlr-PXCiYQEMPDvLaVcw%2526prmd%253Dnivsmbtz%2526sa%253DX%2526sqi%253D2%2526ved%253D2ahUKEwiv1Zme-7yFAxWIbmwGHcyaCiIQtKgLegQIDBAB%2526biw%253D1366%2526bih%253D651%2526dpr%253D1%2526tbm%253Disch%26hl%3Den&amp;opi=89978449&amp;sa=U&amp;ved=0ahUKEwjmxJiC_byFAxUQh1YBHUK0AMoQxs8CCFQ&amp;usg=AOvVaw3o1owD-nvyUkS9wTMPUnr8\">Sign in</a></div><div><table class=\"bookcf\"><tbody class=\"InWNIe\"><tr><td><a class=\"rEM8G\" href=\"https://www.google.com/preferences?hl=en&amp;sa=X&amp;ved=0ahUKEwjmxJiC_byFAxUQh1YBHUK0AMoQv5YECFU\">Settings</a></td><td><a class=\"rEM8G\" href=\"https://www.google.com/intl/en_in/policies/privacy/\">Privacy</a></td><td><a class=\"rEM8G\" href=\"https://www.google.com/intl/en_in/policies/terms/\">Terms</a></td></tr></tbody></table></div></div><div> </div></body></html>"
      ]
     },
     "execution_count": 10,
     "metadata": {},
     "output_type": "execute_result"
    }
   ],
   "source": [
    "soup_img = BeautifulSoup(responce.content,'html.parser')\n",
    "soup_img"
   ]
  },
  {
   "cell_type": "code",
   "execution_count": 12,
   "id": "1a1596ae-05a2-4648-acbf-c5bd8f2358a4",
   "metadata": {},
   "outputs": [
    {
     "data": {
      "text/plain": [
       "[<img alt=\"Google\" class=\"kgJEQe\" src=\"/images/branding/searchlogo/1x/googlelogo_desk_heirloom_color_150x55dp.gif\"/>,\n",
       " <img alt=\"\" class=\"DS1iW\" src=\"https://encrypted-tbn0.gstatic.com/images?q=tbn:ANd9GcTw7G48FnLNCO2gGjMABD7W_0PPI2v9HQts8jXdtqEomxahKG15PaUEOEo2H3U&amp;s\"/>,\n",
       " <img alt=\"\" class=\"DS1iW\" src=\"https://encrypted-tbn0.gstatic.com/images?q=tbn:ANd9GcRJqHzg9DJJPRbcFIrzl2LM_9PxyNSoyVF4mC09eVrcfdfo_5-dY8IApJu0MEM&amp;s\"/>,\n",
       " <img alt=\"\" class=\"DS1iW\" src=\"https://encrypted-tbn0.gstatic.com/images?q=tbn:ANd9GcTJXJPzejSdnCEfHCkHDOsQkBksgHRmJpZiajwNHnRWjcLhpImqSb8YR5RLLVA&amp;s\"/>,\n",
       " <img alt=\"\" class=\"DS1iW\" src=\"https://encrypted-tbn0.gstatic.com/images?q=tbn:ANd9GcT52ljobc7qnkB7b01CidNeegF5evtDSWXs_4m8W3CnDQnochmOGQrqInvnSQ&amp;s\"/>,\n",
       " <img alt=\"\" class=\"DS1iW\" src=\"https://encrypted-tbn0.gstatic.com/images?q=tbn:ANd9GcQ64aoxU4HIa5PniRDogrqfIMo1UPskm1nLsVb9VGAK4kt1cy9jj22YusH46cE&amp;s\"/>,\n",
       " <img alt=\"\" class=\"DS1iW\" src=\"https://encrypted-tbn0.gstatic.com/images?q=tbn:ANd9GcTvsVxGdzOxx9q0xe3xuHV-Z80qgnli5wRp1hjrdxueqHjyjs0a4PLp5dB0__I&amp;s\"/>,\n",
       " <img alt=\"\" class=\"DS1iW\" src=\"https://encrypted-tbn0.gstatic.com/images?q=tbn:ANd9GcR9Kr7EwWPD97YhdtZXbTvOrU06q9YdKb0bCMxJhWB3c8Jr5VwMSNzqMDX4q-w&amp;s\"/>,\n",
       " <img alt=\"\" class=\"DS1iW\" src=\"https://encrypted-tbn0.gstatic.com/images?q=tbn:ANd9GcSDRQcRaN4aGU3AOvVF5oXHWsylRc8gkHPAU_uLH40oBeDXf4yApmwK0XnOcw&amp;s\"/>,\n",
       " <img alt=\"\" class=\"DS1iW\" src=\"https://encrypted-tbn0.gstatic.com/images?q=tbn:ANd9GcTngqLCvsrv13Ek1yp0193bNFsEjPPn3iU4kkTv38Na9O-azXCDoOh7an1iQLg&amp;s\"/>,\n",
       " <img alt=\"\" class=\"DS1iW\" src=\"https://encrypted-tbn0.gstatic.com/images?q=tbn:ANd9GcRFlVp4pCM7nOgmMfUWmAAupztiOmOTzinBCnzlM-2O_1Zd_Ehqvu1Ka3PAQv0&amp;s\"/>,\n",
       " <img alt=\"\" class=\"DS1iW\" src=\"https://encrypted-tbn0.gstatic.com/images?q=tbn:ANd9GcQHN0NC_Jve6ATpGeKyvc1VFiiOh3DUlTD-6WiaiQp6tsyqVj2KzgzEtelyGA&amp;s\"/>,\n",
       " <img alt=\"\" class=\"DS1iW\" src=\"https://encrypted-tbn0.gstatic.com/images?q=tbn:ANd9GcTBSwvSwKBlRUAZkr67W5xPjJZdtX_JFgPraEBWMDlX0ssY_VPVyjrwN7DkRA&amp;s\"/>,\n",
       " <img alt=\"\" class=\"DS1iW\" src=\"https://encrypted-tbn0.gstatic.com/images?q=tbn:ANd9GcQ_no8AjPgYN0MU-LKpdaegF05G4-GJi0WCB58OXLdacGXTYbwOjYodtTbQfA&amp;s\"/>,\n",
       " <img alt=\"\" class=\"DS1iW\" src=\"https://encrypted-tbn0.gstatic.com/images?q=tbn:ANd9GcQceBHWWued02KxWPuCIEcGbzKdDzUJT5XOUXNsY8PJ1aJ90yaUtc4mObK7nA&amp;s\"/>,\n",
       " <img alt=\"\" class=\"DS1iW\" src=\"https://encrypted-tbn0.gstatic.com/images?q=tbn:ANd9GcTLjhPYoHbhbM-ylTFjThc6Wa3396tbASiICa99y5U22RkdhXkn2KCjxWLknQ&amp;s\"/>,\n",
       " <img alt=\"\" class=\"DS1iW\" src=\"https://encrypted-tbn0.gstatic.com/images?q=tbn:ANd9GcSMi8j0ak8pUYTijgbhvnGefLllqlTG9PqYj_SBNqptm2DHymtxGKwpGkYqVQ&amp;s\"/>,\n",
       " <img alt=\"\" class=\"DS1iW\" src=\"https://encrypted-tbn0.gstatic.com/images?q=tbn:ANd9GcRb-qFq0CKnsUiaOBuGFNDAB91mVWbBlGEchFsd4elrtYuhKT53y6WeH8xCqzs&amp;s\"/>,\n",
       " <img alt=\"\" class=\"DS1iW\" src=\"https://encrypted-tbn0.gstatic.com/images?q=tbn:ANd9GcQsWpuE2zODNjWr6Ym28kwSwAHMQgXUvnZ3BPpoxFcDIA_cAtibeRVnbeWHZRk&amp;s\"/>,\n",
       " <img alt=\"\" class=\"DS1iW\" src=\"https://encrypted-tbn0.gstatic.com/images?q=tbn:ANd9GcQ8--uWu1_3Oc3bvfCwkO3185LsqYSyBwwR28D9AwBP_yE_rcblWbDN6KFqdg&amp;s\"/>,\n",
       " <img alt=\"\" class=\"DS1iW\" src=\"https://encrypted-tbn0.gstatic.com/images?q=tbn:ANd9GcTJ1LhWTBLsu6SWYZlwmLa7mWV7-e-LE3lcn_sznZCdauPnXXNf_KodADhTHVQ&amp;s\"/>]"
      ]
     },
     "execution_count": 12,
     "metadata": {},
     "output_type": "execute_result"
    }
   ],
   "source": [
    "img_tags = soup_img.find_all('img')\n",
    "img_tags"
   ]
  },
  {
   "cell_type": "code",
   "execution_count": 14,
   "id": "213b2f12-e5d1-4ec8-ac82-5ea59ad38d50",
   "metadata": {},
   "outputs": [],
   "source": [
    "del img_tags[0]"
   ]
  },
  {
   "cell_type": "code",
   "execution_count": 15,
   "id": "6160d1ed-98d1-4a4d-80d3-acc2a72a2a16",
   "metadata": {},
   "outputs": [
    {
     "data": {
      "text/plain": [
       "[<img alt=\"\" class=\"DS1iW\" src=\"https://encrypted-tbn0.gstatic.com/images?q=tbn:ANd9GcTw7G48FnLNCO2gGjMABD7W_0PPI2v9HQts8jXdtqEomxahKG15PaUEOEo2H3U&amp;s\"/>,\n",
       " <img alt=\"\" class=\"DS1iW\" src=\"https://encrypted-tbn0.gstatic.com/images?q=tbn:ANd9GcRJqHzg9DJJPRbcFIrzl2LM_9PxyNSoyVF4mC09eVrcfdfo_5-dY8IApJu0MEM&amp;s\"/>,\n",
       " <img alt=\"\" class=\"DS1iW\" src=\"https://encrypted-tbn0.gstatic.com/images?q=tbn:ANd9GcTJXJPzejSdnCEfHCkHDOsQkBksgHRmJpZiajwNHnRWjcLhpImqSb8YR5RLLVA&amp;s\"/>,\n",
       " <img alt=\"\" class=\"DS1iW\" src=\"https://encrypted-tbn0.gstatic.com/images?q=tbn:ANd9GcT52ljobc7qnkB7b01CidNeegF5evtDSWXs_4m8W3CnDQnochmOGQrqInvnSQ&amp;s\"/>,\n",
       " <img alt=\"\" class=\"DS1iW\" src=\"https://encrypted-tbn0.gstatic.com/images?q=tbn:ANd9GcQ64aoxU4HIa5PniRDogrqfIMo1UPskm1nLsVb9VGAK4kt1cy9jj22YusH46cE&amp;s\"/>,\n",
       " <img alt=\"\" class=\"DS1iW\" src=\"https://encrypted-tbn0.gstatic.com/images?q=tbn:ANd9GcTvsVxGdzOxx9q0xe3xuHV-Z80qgnli5wRp1hjrdxueqHjyjs0a4PLp5dB0__I&amp;s\"/>,\n",
       " <img alt=\"\" class=\"DS1iW\" src=\"https://encrypted-tbn0.gstatic.com/images?q=tbn:ANd9GcR9Kr7EwWPD97YhdtZXbTvOrU06q9YdKb0bCMxJhWB3c8Jr5VwMSNzqMDX4q-w&amp;s\"/>,\n",
       " <img alt=\"\" class=\"DS1iW\" src=\"https://encrypted-tbn0.gstatic.com/images?q=tbn:ANd9GcSDRQcRaN4aGU3AOvVF5oXHWsylRc8gkHPAU_uLH40oBeDXf4yApmwK0XnOcw&amp;s\"/>,\n",
       " <img alt=\"\" class=\"DS1iW\" src=\"https://encrypted-tbn0.gstatic.com/images?q=tbn:ANd9GcTngqLCvsrv13Ek1yp0193bNFsEjPPn3iU4kkTv38Na9O-azXCDoOh7an1iQLg&amp;s\"/>,\n",
       " <img alt=\"\" class=\"DS1iW\" src=\"https://encrypted-tbn0.gstatic.com/images?q=tbn:ANd9GcRFlVp4pCM7nOgmMfUWmAAupztiOmOTzinBCnzlM-2O_1Zd_Ehqvu1Ka3PAQv0&amp;s\"/>,\n",
       " <img alt=\"\" class=\"DS1iW\" src=\"https://encrypted-tbn0.gstatic.com/images?q=tbn:ANd9GcQHN0NC_Jve6ATpGeKyvc1VFiiOh3DUlTD-6WiaiQp6tsyqVj2KzgzEtelyGA&amp;s\"/>,\n",
       " <img alt=\"\" class=\"DS1iW\" src=\"https://encrypted-tbn0.gstatic.com/images?q=tbn:ANd9GcTBSwvSwKBlRUAZkr67W5xPjJZdtX_JFgPraEBWMDlX0ssY_VPVyjrwN7DkRA&amp;s\"/>,\n",
       " <img alt=\"\" class=\"DS1iW\" src=\"https://encrypted-tbn0.gstatic.com/images?q=tbn:ANd9GcQ_no8AjPgYN0MU-LKpdaegF05G4-GJi0WCB58OXLdacGXTYbwOjYodtTbQfA&amp;s\"/>,\n",
       " <img alt=\"\" class=\"DS1iW\" src=\"https://encrypted-tbn0.gstatic.com/images?q=tbn:ANd9GcQceBHWWued02KxWPuCIEcGbzKdDzUJT5XOUXNsY8PJ1aJ90yaUtc4mObK7nA&amp;s\"/>,\n",
       " <img alt=\"\" class=\"DS1iW\" src=\"https://encrypted-tbn0.gstatic.com/images?q=tbn:ANd9GcTLjhPYoHbhbM-ylTFjThc6Wa3396tbASiICa99y5U22RkdhXkn2KCjxWLknQ&amp;s\"/>,\n",
       " <img alt=\"\" class=\"DS1iW\" src=\"https://encrypted-tbn0.gstatic.com/images?q=tbn:ANd9GcSMi8j0ak8pUYTijgbhvnGefLllqlTG9PqYj_SBNqptm2DHymtxGKwpGkYqVQ&amp;s\"/>,\n",
       " <img alt=\"\" class=\"DS1iW\" src=\"https://encrypted-tbn0.gstatic.com/images?q=tbn:ANd9GcRb-qFq0CKnsUiaOBuGFNDAB91mVWbBlGEchFsd4elrtYuhKT53y6WeH8xCqzs&amp;s\"/>,\n",
       " <img alt=\"\" class=\"DS1iW\" src=\"https://encrypted-tbn0.gstatic.com/images?q=tbn:ANd9GcQsWpuE2zODNjWr6Ym28kwSwAHMQgXUvnZ3BPpoxFcDIA_cAtibeRVnbeWHZRk&amp;s\"/>,\n",
       " <img alt=\"\" class=\"DS1iW\" src=\"https://encrypted-tbn0.gstatic.com/images?q=tbn:ANd9GcQ8--uWu1_3Oc3bvfCwkO3185LsqYSyBwwR28D9AwBP_yE_rcblWbDN6KFqdg&amp;s\"/>,\n",
       " <img alt=\"\" class=\"DS1iW\" src=\"https://encrypted-tbn0.gstatic.com/images?q=tbn:ANd9GcTJ1LhWTBLsu6SWYZlwmLa7mWV7-e-LE3lcn_sznZCdauPnXXNf_KodADhTHVQ&amp;s\"/>]"
      ]
     },
     "execution_count": 15,
     "metadata": {},
     "output_type": "execute_result"
    }
   ],
   "source": [
    "img_tags"
   ]
  },
  {
   "cell_type": "code",
   "execution_count": 16,
   "id": "7aa3a64a-0f1c-44d0-a1aa-f9d9c8e40948",
   "metadata": {},
   "outputs": [
    {
     "data": {
      "text/plain": [
       "20"
      ]
     },
     "execution_count": 16,
     "metadata": {},
     "output_type": "execute_result"
    }
   ],
   "source": [
    "len(img_tags)"
   ]
  },
  {
   "cell_type": "code",
   "execution_count": 22,
   "id": "358d7837-4172-4c63-8cf5-0edcb0c372a2",
   "metadata": {},
   "outputs": [],
   "source": [
    "for i in img_tags:\n",
    "    img_url = i['src']\n",
    "    img_data = requests.get(img_url).content\n",
    "    with open (os.path.join(save_img_dir, f'{query}_{img_tags.index(i)}.jpg'), 'wb')as f:\n",
    "        f.write(img_data)"
   ]
  },
  {
   "cell_type": "code",
   "execution_count": null,
   "id": "08d1e711-8ca3-4e16-968f-43cb56a7458c",
   "metadata": {},
   "outputs": [],
   "source": []
  },
  {
   "cell_type": "code",
   "execution_count": null,
   "id": "30f3b142-f06b-4642-b899-48f8a616b8dc",
   "metadata": {},
   "outputs": [],
   "source": []
  }
 ],
 "metadata": {
  "kernelspec": {
   "display_name": "Python 3 (ipykernel)",
   "language": "python",
   "name": "python3"
  },
  "language_info": {
   "codemirror_mode": {
    "name": "ipython",
    "version": 3
   },
   "file_extension": ".py",
   "mimetype": "text/x-python",
   "name": "python",
   "nbconvert_exporter": "python",
   "pygments_lexer": "ipython3",
   "version": "3.8.0"
  }
 },
 "nbformat": 4,
 "nbformat_minor": 5
}
